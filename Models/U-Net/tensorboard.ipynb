{
 "cells": [
  {
   "cell_type": "code",
   "execution_count": 18,
   "id": "5e60bae7-3c59-48fb-ad15-f217d4ae9c88",
   "metadata": {},
   "outputs": [],
   "source": [
    "import matplotlib.pyplot as plt\n",
    "import numpy as np\n",
    "import pandas as pd\n",
    "\n",
    "import torch\n",
    "import torchvision\n",
    "import torchvision.transforms as transforms\n",
    "\n",
    "import torch.nn as nn\n",
    "import torch.nn.functional as F\n",
    "import torch.optim as optim\n",
    "from torch import nn\n",
    "from torch.nn import functional as F\n",
    "from torch.utils import data as torch_data\n",
    "from torch.optim import lr_scheduler\n",
    "from torch.optim.lr_scheduler import ReduceLROnPlateau\n",
    "from torchinfo import summary\n",
    "import time\n",
    "\n",
    "import sklearn\n",
    "from sklearn import model_selection as sk_model_selection\n",
    "from sklearn.model_selection import StratifiedKFold\n",
    "from sklearn.metrics import f1_score\n",
    "from sklearn.metrics import roc_auc_score\n",
    "from skimage.transform import resize\n",
    "\n",
    "import nibabel as nib\n",
    "import matplotlib.pyplot as plt\n",
    "\n",
    "from unet_down import UNet\n",
    "\n",
    "import argparse"
   ]
  },
  {
   "cell_type": "code",
   "execution_count": 3,
   "id": "696e9f95-4a2e-4021-87fe-0e82202f90e6",
   "metadata": {},
   "outputs": [],
   "source": [
    "from unet_down import UNet\n",
    "\n",
    "input_shape = (90,90,90)\n",
    "\n",
    "model = UNet(in_channels=1,\n",
    "             out_channels=2,\n",
    "             n_blocks=4,\n",
    "             input_shape = input_shape,\n",
    "             start_filters=32,\n",
    "             activation='relu',\n",
    "             normalization='batch',\n",
    "             conv_mode='same',\n",
    "             dim=3,\n",
    "             hidden_channels=2048)"
   ]
  },
  {
   "cell_type": "code",
   "execution_count": 28,
   "id": "a78a817c-5eed-45b5-92eb-dfbad65b06af",
   "metadata": {},
   "outputs": [],
   "source": [
    "WB_PATH = '/mnt/24CC5B14CC5ADF9A/Brain_Tumor_Classification/Datasets/Data_WB_90_90_90'\n",
    "\n",
    "def construct_target_volume(scan_id,mri_type,scale_size=260):\n",
    "    voxel_WB = nib.load(f'{WB_PATH}/BraTS2021_{scan_id}/BraTS2021_{scan_id}_{mri_type}.nii.gz').get_fdata().astype('float')\n",
    "    return voxel_WB\n",
    "\n",
    "class Dataset(torch_data.Dataset):\n",
    "    def __init__(self, ids, targets, mri_type, if_pred = False):\n",
    "        self.ids = ids\n",
    "        self.targets = targets\n",
    "        self.mri_type = mri_type\n",
    "        self.if_pred = if_pred\n",
    "        \n",
    "    def __len__(self):\n",
    "        return len(self.ids)\n",
    "    \n",
    "    def __getitem__(self, index):\n",
    "        scan_id = self.ids[index]\n",
    "        data = construct_target_volume(scan_id,self.mri_type,scale_size=90)\n",
    "\n",
    "        if self.if_pred:\n",
    "            return {\"X\": torch.tensor(data).float().unsqueeze(0), \"id\":scan_id}\n",
    "        else:\n",
    "            y = torch.tensor(self.targets[index], dtype = torch.long)\n",
    "            return {\"X\": torch.tensor(data).float().unsqueeze(0), \"y\": y}\n",
    "\n",
    "        \n",
    "def get_train_valid_split(label_path):\n",
    "    train_df = pd.read_csv(label_path,dtype = {'BraTS21ID':'str','MGMT_value':'int'})\n",
    "    index_name = train_df[(train_df['BraTS21ID'] == '00109') | (train_df['BraTS21ID'] == '00123') | (train_df['BraTS21ID'] == '00709')].index\n",
    "    train_df = train_df.drop(index_name).reset_index(drop=True)\n",
    "\n",
    "    X = train_df['BraTS21ID'].values\n",
    "    y = train_df['MGMT_value'].values\n",
    "    \n",
    "    kfold =  StratifiedKFold(n_splits=5,shuffle = True,random_state = SEED)\n",
    "    return X,y,list(kfold.split(X,y))\n",
    "\n",
    "LABEL_PATH = './train_labels.csv'\n",
    "SEED = 42\n",
    "\n",
    "X,y,SPLIT = get_train_valid_split(LABEL_PATH)\n",
    "        \n",
    "train_idx,valid_idx = SPLIT[0]\n",
    "X_train,X_valid = X[train_idx],X[valid_idx]\n",
    "y_train,y_valid = y[train_idx],y[valid_idx]\n",
    "\n",
    "train_data_retriever = Dataset(\n",
    "        X_train, \n",
    "        y_train,\n",
    "        'flair'\n",
    ")\n",
    "\n",
    "\n",
    "train_loader = torch_data.DataLoader(\n",
    "        train_data_retriever,\n",
    "        batch_size=1,\n",
    "        shuffle=True,\n",
    "        num_workers=8,\n",
    "        pin_memory = True\n",
    ")\n",
    "\n",
    "\n",
    "dataiter = iter(train_loader)\n",
    "images = dataiter.next()['X']"
   ]
  },
  {
   "cell_type": "code",
   "execution_count": 40,
   "id": "655e1ce3-c90e-4112-9024-f63dbc9144a3",
   "metadata": {},
   "outputs": [],
   "source": [
    "from torch.utils.tensorboard import SummaryWriter\n",
    "writer = SummaryWriter('runs/half_Unet')"
   ]
  },
  {
   "cell_type": "code",
   "execution_count": 56,
   "id": "c91722ee-e6fb-44d3-8366-eb6ffcc0ae4a",
   "metadata": {},
   "outputs": [],
   "source": [
    "writer.add_graph(model, images)\n",
    "writer.close()"
   ]
  },
  {
   "cell_type": "code",
   "execution_count": 57,
   "id": "702a9c9c-ebfd-4dea-83b8-2282e542cbec",
   "metadata": {},
   "outputs": [
    {
     "name": "stdout",
     "output_type": "stream",
     "text": [
      "TensorFlow installation not found - running with reduced feature set.\n",
      "\n",
      "NOTE: Using experimental fast data loading logic. To disable, pass\n",
      "    \"--load_fast=false\" and report issues on GitHub. More details:\n",
      "    https://github.com/tensorflow/tensorboard/issues/4784\n",
      "\n",
      "Serving TensorBoard on localhost; to expose to the network, use a proxy or pass --bind_all\n",
      "TensorBoard 2.8.0 at http://localhost:6006/ (Press CTRL+C to quit)\n",
      "^C\n"
     ]
    }
   ],
   "source": [
    "!tensorboard --logdir=runs"
   ]
  },
  {
   "cell_type": "code",
   "execution_count": null,
   "id": "d4196228-ead6-430a-9e9d-0c2fcf63e905",
   "metadata": {},
   "outputs": [],
   "source": []
  }
 ],
 "metadata": {
  "kernelspec": {
   "display_name": "Python 3 (ipykernel)",
   "language": "python",
   "name": "python3"
  },
  "language_info": {
   "codemirror_mode": {
    "name": "ipython",
    "version": 3
   },
   "file_extension": ".py",
   "mimetype": "text/x-python",
   "name": "python",
   "nbconvert_exporter": "python",
   "pygments_lexer": "ipython3",
   "version": "3.8.10"
  }
 },
 "nbformat": 4,
 "nbformat_minor": 5
}
