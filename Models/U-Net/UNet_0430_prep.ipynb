{
 "cells": [
  {
   "cell_type": "code",
   "execution_count": 5,
   "id": "0c4149e4-461d-4cef-8e5b-931cc85bf708",
   "metadata": {},
   "outputs": [],
   "source": [
    "import os\n",
    "import re\n",
    "import random\n",
    "from datetime import date\n",
    "import pandas as pd\n",
    "import numpy as np\n",
    "import cv2\n",
    "import torch\n",
    "from torch import nn\n",
    "from torch.nn import functional as F\n",
    "from torch.utils import data as torch_data\n",
    "from torchinfo import summary\n",
    "import time\n",
    "from skimage.transform import resize\n",
    "\n",
    "\n",
    "import sklearn\n",
    "from sklearn import model_selection as sk_model_selection\n",
    "from sklearn.metrics import f1_score\n",
    "from sklearn.metrics import roc_auc_score\n",
    "\n",
    "import nibabel as nib\n",
    "import matplotlib.pyplot as plt\n",
    "\n",
    "from unet_down import UNet\n",
    "from torch.optim.lr_scheduler import ReduceLROnPlateau\n",
    "\n",
    "import seaborn as sns"
   ]
  },
  {
   "cell_type": "code",
   "execution_count": 16,
   "id": "49cf94b8-e58e-44ea-a771-52ba09c9cc66",
   "metadata": {},
   "outputs": [
    {
     "name": "stdout",
     "output_type": "stream",
     "text": [
      "32000\n"
     ]
    }
   ],
   "source": [
    "#Set up Model\n",
    "x = torch.randn(size=(1, 4,90,90,90), dtype=torch.float32)\n",
    "batchsize_3d = 256*(x.shape[2]//16)*(x.shape[3]//16)*(x.shape[4]//16)\n",
    "print(batchsize_3d)\n",
    "input_shape = (90,90,90)"
   ]
  },
  {
   "cell_type": "code",
   "execution_count": 17,
   "id": "e96e072f-434c-41e1-a317-65ee434be49b",
   "metadata": {},
   "outputs": [
    {
     "name": "stdout",
     "output_type": "stream",
     "text": [
      "Out: tensor([[-0.1129, -0.1567]])\n"
     ]
    }
   ],
   "source": [
    "from unet_down import UNet\n",
    "\n",
    "model = UNet(in_channels=4,\n",
    "             out_channels=2,\n",
    "             n_blocks=4,\n",
    "             input_shape = input_shape,\n",
    "             start_filters=32,\n",
    "             activation='relu',\n",
    "             normalization='batch',\n",
    "             conv_mode='same',\n",
    "             dim=3,\n",
    "             hidden_channels=2048)\n",
    "\n",
    "\n",
    "with torch.no_grad():\n",
    "    out = model(x)\n",
    "\n",
    "print(f'Out: {out}')"
   ]
  },
  {
   "cell_type": "code",
   "execution_count": 18,
   "id": "73c82f3e-9dce-4512-8424-3743d338d990",
   "metadata": {
    "tags": []
   },
   "outputs": [
    {
     "data": {
      "text/plain": [
       "==========================================================================================\n",
       "Layer (type:depth-idx)                   Output Shape              Param #\n",
       "==========================================================================================\n",
       "UNet                                     --                        --\n",
       "├─ModuleList: 1-1                        --                        --\n",
       "│    └─DownBlock: 2-1                    [1, 32, 45, 45, 45]       --\n",
       "│    │    └─Conv3d: 3-1                  [1, 32, 90, 90, 90]       3,488\n",
       "│    │    └─ReLU: 3-2                    [1, 32, 90, 90, 90]       --\n",
       "│    │    └─BatchNorm3d: 3-3             [1, 32, 90, 90, 90]       64\n",
       "│    │    └─Conv3d: 3-4                  [1, 32, 90, 90, 90]       27,680\n",
       "│    │    └─ReLU: 3-5                    [1, 32, 90, 90, 90]       --\n",
       "│    │    └─BatchNorm3d: 3-6             [1, 32, 90, 90, 90]       64\n",
       "│    │    └─MaxPool3d: 3-7               [1, 32, 45, 45, 45]       --\n",
       "│    └─DownBlock: 2-2                    [1, 64, 22, 22, 22]       --\n",
       "│    │    └─Conv3d: 3-8                  [1, 64, 45, 45, 45]       55,360\n",
       "│    │    └─ReLU: 3-9                    [1, 64, 45, 45, 45]       --\n",
       "│    │    └─BatchNorm3d: 3-10            [1, 64, 45, 45, 45]       128\n",
       "│    │    └─Conv3d: 3-11                 [1, 64, 45, 45, 45]       110,656\n",
       "│    │    └─ReLU: 3-12                   [1, 64, 45, 45, 45]       --\n",
       "│    │    └─BatchNorm3d: 3-13            [1, 64, 45, 45, 45]       128\n",
       "│    │    └─MaxPool3d: 3-14              [1, 64, 22, 22, 22]       --\n",
       "│    └─DownBlock: 2-3                    [1, 128, 11, 11, 11]      --\n",
       "│    │    └─Conv3d: 3-15                 [1, 128, 22, 22, 22]      221,312\n",
       "│    │    └─ReLU: 3-16                   [1, 128, 22, 22, 22]      --\n",
       "│    │    └─BatchNorm3d: 3-17            [1, 128, 22, 22, 22]      256\n",
       "│    │    └─Conv3d: 3-18                 [1, 128, 22, 22, 22]      442,496\n",
       "│    │    └─ReLU: 3-19                   [1, 128, 22, 22, 22]      --\n",
       "│    │    └─BatchNorm3d: 3-20            [1, 128, 22, 22, 22]      256\n",
       "│    │    └─MaxPool3d: 3-21              [1, 128, 11, 11, 11]      --\n",
       "│    └─DownBlock: 2-4                    [1, 256, 5, 5, 5]         --\n",
       "│    │    └─Conv3d: 3-22                 [1, 256, 11, 11, 11]      884,992\n",
       "│    │    └─ReLU: 3-23                   [1, 256, 11, 11, 11]      --\n",
       "│    │    └─BatchNorm3d: 3-24            [1, 256, 11, 11, 11]      512\n",
       "│    │    └─Conv3d: 3-25                 [1, 256, 11, 11, 11]      1,769,728\n",
       "│    │    └─ReLU: 3-26                   [1, 256, 11, 11, 11]      --\n",
       "│    │    └─BatchNorm3d: 3-27            [1, 256, 11, 11, 11]      512\n",
       "│    │    └─MaxPool3d: 3-28              [1, 256, 5, 5, 5]         --\n",
       "├─FClayer: 1-2                           [1, 2]                    --\n",
       "│    └─Linear: 2-5                       [1, 2048]                 65,538,048\n",
       "│    └─ReLU: 2-6                         [1, 2048]                 --\n",
       "│    └─Linear: 2-7                       [1, 256]                  524,544\n",
       "│    └─ReLU: 2-8                         [1, 256]                  --\n",
       "│    └─Linear: 2-9                       [1, 2]                    514\n",
       "==========================================================================================\n",
       "Total params: 69,580,738\n",
       "Trainable params: 69,580,738\n",
       "Non-trainable params: 0\n",
       "Total mult-adds (G): 48.52\n",
       "==========================================================================================\n",
       "Input size (MB): 11.66\n",
       "Forward/backward pass size (MB): 987.66\n",
       "Params size (MB): 278.32\n",
       "Estimated Total Size (MB): 1277.64\n",
       "=========================================================================================="
      ]
     },
     "execution_count": 18,
     "metadata": {},
     "output_type": "execute_result"
    }
   ],
   "source": [
    "torch.cuda.empty_cache()\n",
    "summary_1 = summary(model, input_size = (1, 4,90,90,90))\n",
    "summary_1"
   ]
  },
  {
   "cell_type": "code",
   "execution_count": 2,
   "id": "1b0d1199-7f91-4e78-8393-a01b1bfd870d",
   "metadata": {},
   "outputs": [],
   "source": [
    "raw_data_path = '/mnt/24CC5B14CC5ADF9A/Brain_Tumor_Classification/Datasets/Data_Prep_Segmentation'\n",
    "masks_data_path = '/mnt/24CC5B14CC5ADF9A/Brain_Tumor_Classification/Datasets/Data_Masks_Train'\n",
    "label_path = '/mnt/24CC5B14CC5ADF9A/Brain_Tumor_Classification/Datasets/train_labels.csv'\n",
    "\n",
    "mri_types = ['flair','t1','t1ce','t2']"
   ]
  },
  {
   "cell_type": "code",
   "execution_count": 3,
   "id": "a814d41d-8bdd-464c-a375-a10c568ca311",
   "metadata": {},
   "outputs": [],
   "source": [
    "def get_full_df(label_path):\n",
    "    train_df = pd.read_csv(label_path,dtype = {'BraTS21ID':'str','MGMT_value':'int'})\n",
    "    index_name = train_df[(train_df['BraTS21ID'] == '00109') | (train_df['BraTS21ID'] == '00123') | (train_df['BraTS21ID'] == '00709')].index\n",
    "    train_df = train_df.drop(index_name).reset_index(drop=True)\n",
    "    \n",
    "    return train_df\n",
    "\n",
    "def load_raw_voxel(patient_id,mri_type):\n",
    "    # Normalize voxel volume to 0~255\n",
    "    voxels = nib.load(f'{raw_data_path}/BraTS2021_{patient_id}/BraTS2021_{patient_id}_{mri_type}.nii.gz').get_fdata().astype('float')\n",
    "    _min = voxels.min()\n",
    "    _max = voxels.max()\n",
    "    new_voxels = (voxels - _min) / (_max-_min) * 255.0\n",
    "    return new_voxels\n",
    "\n",
    "def load_mask(patient_id):\n",
    "    return nib.load(f'{masks_data_path }/BraTS2021_{patient_id}.nii.gz').get_fdata().astype('float')"
   ]
  },
  {
   "cell_type": "markdown",
   "id": "45e4bb73-a39b-4b84-8d94-b51773fbd9fb",
   "metadata": {},
   "source": [
    "#00006"
   ]
  },
  {
   "cell_type": "code",
   "execution_count": 453,
   "id": "1aa3e806-e8b1-4edb-9b4b-0f5a8c295f01",
   "metadata": {},
   "outputs": [
    {
     "name": "stdout",
     "output_type": "stream",
     "text": [
      "00006\n"
     ]
    }
   ],
   "source": [
    "test_ID = '00006'\n",
    "print(test_ID)\n",
    "test_voxel = load_raw_voxel(test_ID,mri_types[3])\n",
    "test_mask = load_mask(test_ID)\n",
    "\n",
    "# Replace mark 2 and 4 to 1 \n",
    "mask_WT = test_mask.copy()\n",
    "mask_WT[(mask_WT == 2) | (mask_WT == 4)] = 1\n",
    "\n",
    "test_tumor = mask_WT*test_voxel"
   ]
  },
  {
   "cell_type": "code",
   "execution_count": 454,
   "id": "f1c52159-7a2f-4254-86a9-0e40dcbd1d41",
   "metadata": {},
   "outputs": [
    {
     "data": {
      "text/plain": [
       "Text(0.5, 1.0, 'Segmentation Label')"
      ]
     },
     "execution_count": 454,
     "metadata": {},
     "output_type": "execute_result"
    },
    {
     "data": {
      "image/png": "[encoded data removed]",
      "text/plain": [
       "<Figure size 1296x864 with 3 Axes>"
      ]
     },
     "metadata": {
      "needs_background": "light"
     },
     "output_type": "display_data"
    }
   ],
   "source": [
    "index = 85\n",
    "fig, axes = plt.subplots(1,3, figsize=(18, 12))\n",
    "\n",
    "fig.subplots_adjust(top=0.95)\n",
    "\n",
    "axes[0].imshow(test_voxel[:,:,index],cmap = 'gray')\n",
    "axes[0].set_title('Whold Brain', fontsize=12)\n",
    "axes[0].set_aspect(1)\n",
    "\n",
    "axes[1].imshow(test_tumor[:,:,index],cmap = 'gray')\n",
    "axes[1].set_title('Whole Tumor', fontsize=12)\n",
    "\n",
    "axes[2].imshow(test_mask[:,:,index],cmap = 'gray')\n",
    "axes[2].set_title('Segmentation Label', fontsize=12)"
   ]
  },
  {
   "cell_type": "code",
   "execution_count": 469,
   "id": "5ca72365-fa64-4703-ae32-7f86a0041a4a",
   "metadata": {},
   "outputs": [
    {
     "data": {
      "image/png": "[encoded data removed]",
      "text/plain": [
       "<Figure size 432x288 with 1 Axes>"
      ]
     },
     "metadata": {
      "needs_background": "light"
     },
     "output_type": "display_data"
    }
   ],
   "source": [
    "plt.axis('off')\n",
    "mask_t = test_mask.copy()\n",
    "mask_t[(mask_t ==2) | (mask_t == 4)] = 1\n",
    "t_tumor = mask_t*test_voxel\n",
    "plt.imshow(t_tumor[:,:,index],cmap = 'gray')\n",
    "plt.savefig('../Pre-processing/saved_images/00006_WT.png', bbox_inches='tight', transparent=True,pad_inches=0)"
   ]
  },
  {
   "cell_type": "code",
   "execution_count": 147,
   "id": "0dbbb7a2-5d0c-4620-90c2-a67c2ab99830",
   "metadata": {},
   "outputs": [],
   "source": [
    "def non_0_voxel_mask(voxel,mask):\n",
    "    length = mask.shape[2]\n",
    "    start_id = 0\n",
    "    end_id = length-1\n",
    "\n",
    "    # From begining to find start index\n",
    "    for i in range(length):\n",
    "        if np.max(mask[:,:,i]) != 0:\n",
    "            start_id = i\n",
    "            break\n",
    "\n",
    "    # From final to find end index\n",
    "    for i in range(length-1,-1,-1):\n",
    "        if np.max(mask[:,:,i]) != 0:\n",
    "            end_id = i\n",
    "            break\n",
    "    non_0_indexs = slice(start_id,end_id+1)\n",
    "    \n",
    "    return voxel[:,:,non_0_indexs],mask[:,:,non_0_indexs]\n",
    "\n",
    "def find_largest_countours(contours):\n",
    "    max_cnt = max(contours, key=lambda cnt: cv2.contourArea(cnt))\n",
    "    return max_cnt\n",
    "\n",
    "\n",
    "def get_area_over_image_ratio(image, mask):\n",
    "    _, image_thresh = cv2.threshold(image,1,255,cv2.THRESH_BINARY)\n",
    "    \n",
    "    # image_contours, _ = cv2.findContours(image_thresh,cv2.RETR_EXTERNAL,cv2.CHAIN_APPROX_SIMPLE)\n",
    "    image_contours, _ = cv2.findContours(image=image_thresh, mode=cv2.RETR_TREE, method=cv2.CHAIN_APPROX_NONE)\n",
    "    if not image_contours:\n",
    "        return 0\n",
    "    max_image_cnt = find_largest_countours(image_contours)\n",
    "    \n",
    "    _, mask_thresh = cv2.threshold(mask,0.5,1,cv2.THRESH_BINARY)\n",
    "    mask_contours, _ = cv2.findContours(image=mask_thresh, mode=cv2.RETR_TREE, method=cv2.CHAIN_APPROX_NONE)\n",
    "    count_n_mask_contours = len(mask_contours)\n",
    "    if(count_n_mask_contours == 0):\n",
    "        return 0\n",
    "    max_mask_cnt = find_largest_countours(mask_contours)\n",
    "    area_mask_over_image_ratio = cv2.contourArea(max_mask_cnt) / cv2.contourArea(max_image_cnt)\n",
    "    return area_mask_over_image_ratio "
   ]
  },
  {
   "cell_type": "code",
   "execution_count": 17,
   "id": "50bc1669-66eb-4a6a-805a-39da1c0d0b78",
   "metadata": {},
   "outputs": [],
   "source": [
    "# def construct_target_volume(scan_id,mri_type,ratio=0.02):\n",
    "#     raw_voxel = load_raw_voxel(scan_id,mri_type)\n",
    "#     mask = load_mask(scan_id)\n",
    "    \n",
    "#     non_0_voxel,non_0_mask = non_0_voxel_mask(raw_voxel,mask)\n",
    "    \n",
    "#     mask_WT = non_0_mask.copy()\n",
    "#     mask_WT[(mask_WT == 2) | (mask_WT == 4)] = 1\n",
    "#     voxel_WT = mask_WT*non_0_voxel\n",
    "    \n",
    "#     length = voxel_WT.shape[2]\n",
    "    \n",
    "#     first_image = True\n",
    "#     for i in range(length):\n",
    "#         if first_image:\n",
    "#             if has_good_features(non_0_voxel[:,:,i].astype('uint8'), voxel_WT[:,:,i].astype('uint8'),\n",
    "#                                                             area_mask_over_image_min_ratio=ratio):\n",
    "#                 previous_images = np.stack([non_0_voxel[:,:,i],voxel_WT[:,:,i],non_0_mask[:,:,i]],axis=-1)\n",
    "#                 first_image = False\n",
    "#         else:\n",
    "#             if has_good_features(non_0_voxel[:,:,i].astype('uint8'), voxel_WT[:,:,i].astype('uint8'),\n",
    "#                                                             area_mask_over_image_min_ratio=ratio):\n",
    "#                 new_images = np.stack([non_0_voxel[:,:,i],voxel_WT[:,:,i],non_0_mask[:,:,i]],axis=-1)\n",
    "#                 previous_images = np.dstack((previous_images,new_images))\n",
    "        \n",
    "#     if first_image:\n",
    "#         print(f'ID:{scan_id} has no good feature')\n",
    "#         return None\n",
    "#     else:\n",
    "#         return previous_images"
   ]
  },
  {
   "cell_type": "code",
   "execution_count": 35,
   "id": "5335dff8-86fe-4ff2-9e79-a78950a1da2c",
   "metadata": {},
   "outputs": [],
   "source": [
    "# def construct_target_volume(scan_id,mri_type,scale_size=90):\n",
    "#     raw_voxel = load_raw_voxel(scan_id,mri_type)\n",
    "#     mask = load_mask(scan_id)\n",
    "    \n",
    "#     non_0_voxel,non_0_mask = non_0_voxel_mask(raw_voxel,mask)\n",
    "    \n",
    "#     mask_WT = non_0_mask.copy()\n",
    "#     mask_WT[(mask_WT == 2) | (mask_WT == 4)] = 1\n",
    "#     voxel_WT = mask_WT*non_0_voxel\n",
    "    \n",
    "#     length = voxel_WT.shape[2]\n",
    "#     #------------------------------------Warning To-do ------------------\n",
    "#     if scan_id =='00651' and mri_type =='t1ce':\n",
    "#         max_slice_index = length//2\n",
    "#         half_len = scale_size//6\n",
    "\n",
    "#         start_ind = max_slice_index - half_len\n",
    "#         end_ind = max_slice_index + half_len-1\n",
    "#         if end_ind > (length-1):\n",
    "#             diff = end_ind - (length-1)\n",
    "#             start_ind = start_ind-diff\n",
    "#             end_ind = end_ind -diff\n",
    "\n",
    "#         constructed_voxel= np.stack([non_0_voxel[:,:,start_ind],mask_WT[:,:,start_ind],non_0_mask[:,:,start_ind]],axis=-1)\n",
    "\n",
    "#         for i in range(start_ind+1,end_ind+1):\n",
    "#             new_images = np.stack([non_0_voxel[:,:,i],mask_WT[:,:,i],non_0_mask[:,:,i]],axis=-1)\n",
    "#             constructed_voxel = np.dstack((constructed_voxel,new_images))\n",
    "#         return constructed_voxel\n",
    "#     #---------------------------------------------------------------------------\n",
    "    \n",
    "#     if length<(scale_size/3):\n",
    "#         constructed_voxel= np.stack([non_0_voxel[:,:,0],mask_WT[:,:,0],non_0_mask[:,:,0]],axis=-1)\n",
    "#         for i in range(1,length):\n",
    "#             new_images = np.stack([non_0_voxel[:,:,i],mask_WT[:,:,i],non_0_mask[:,:,i]],axis=-1)\n",
    "#             constructed_voxel = np.dstack((constructed_voxel,new_images))\n",
    "        \n",
    "        \n",
    "#         fixed_voxel = np.zeros((240,240,scale_size))\n",
    "#         real_length = constructed_voxel.shape[2]\n",
    "        \n",
    "#         start = (scale_size-real_length)//2\n",
    "#         end = start+real_length\n",
    "#         fixed_voxel[:,:,start:end] = constructed_voxel\n",
    "        \n",
    "#         return fixed_voxel\n",
    "#     else:\n",
    "#         max_ratio = 0\n",
    "#         max_slice_index = length//2\n",
    "#         for i in range(length):\n",
    "#             current_ratio = get_area_over_image_ratio(non_0_voxel[:,:,i].astype('uint8'), mask_WT[:,:,i].astype('uint8'))\n",
    "#             if current_ratio>max_ratio:\n",
    "#                 max_ratio = current_ratio\n",
    "#                 max_slice_index = i\n",
    "\n",
    "#         half_len = scale_size//6\n",
    "\n",
    "#         start_ind = max_slice_index - half_len\n",
    "#         end_ind = max_slice_index + half_len-1\n",
    "#         if end_ind > (length-1):\n",
    "#             diff = end_ind - (length-1)\n",
    "#             start_ind = start_ind-diff\n",
    "#             end_ind = end_ind -diff\n",
    "\n",
    "#         constructed_voxel= np.stack([non_0_voxel[:,:,start_ind],mask_WT[:,:,start_ind],non_0_mask[:,:,start_ind]],axis=-1)\n",
    "\n",
    "#         for i in range(start_ind+1,end_ind+1):\n",
    "#             new_images = np.stack([non_0_voxel[:,:,i],mask_WT[:,:,i],non_0_mask[:,:,i]],axis=-1)\n",
    "#             constructed_voxel = np.dstack((constructed_voxel,new_images))\n",
    "#         return constructed_voxel"
   ]
  },
  {
   "cell_type": "code",
   "execution_count": null,
   "id": "0d1cc20a-b0a9-4a39-bca3-ca90533efdad",
   "metadata": {},
   "outputs": [],
   "source": [
    "def construct_target_volume(scan_id,mri_type,scale_size=90):\n",
    "    raw_voxel = load_raw_voxel(scan_id,mri_type)\n",
    "    mask = load_mask(scan_id)\n",
    "    \n",
    "    non_0_voxel,non_0_mask = non_0_voxel_mask(raw_voxel,mask)\n",
    "    \n",
    "    mask_WT = non_0_mask.copy()\n",
    "    mask_WT[(mask_WT == 2) | (mask_WT == 4)] = 1\n",
    "    voxel_WT = mask_WT*non_0_voxel\n",
    "    \n",
    "    length = voxel_WT.shape[2]\n",
    "    #------------------------------------Warning To-do ------------------\n",
    "    if scan_id =='00651' and mri_type =='t1ce':\n",
    "        max_slice_index = 44\n",
    "        half_len = scale_size//6\n",
    "\n",
    "        start_ind = max_slice_index - half_len\n",
    "        end_ind = max_slice_index + half_len-1\n",
    "        if end_ind > (length-1):\n",
    "            diff = end_ind - (length-1)\n",
    "            start_ind = start_ind-diff\n",
    "            end_ind = end_ind -diff\n",
    "\n",
    "        constructed_voxel= np.stack([non_0_voxel[:,:,start_ind],voxel_WT[:,:,start_ind],non_0_mask[:,:,start_ind]],axis=-1)\n",
    "\n",
    "        for i in range(start_ind+1,end_ind+1):\n",
    "            new_images = np.stack([non_0_voxel[:,:,i],voxel_WT[:,:,i],non_0_mask[:,:,i]],axis=-1)\n",
    "            constructed_voxel = np.dstack((constructed_voxel,new_images))\n",
    "        \n",
    "        return constructed_voxel\n",
    "    #---------------------------------------------------------------------------\n",
    "    \n",
    "    if length<(scale_size/3):\n",
    "        constructed_voxel= np.stack([non_0_voxel[:,:,0],voxel_WT[:,:,0],non_0_mask[:,:,0]],axis=-1)\n",
    "        for i in range(1,length):\n",
    "            new_images = np.stack([non_0_voxel[:,:,i],voxel_WT[:,:,i],non_0_mask[:,:,i]],axis=-1)\n",
    "            constructed_voxel = np.dstack((constructed_voxel,new_images))\n",
    "        \n",
    "        \n",
    "        fixed_voxel = np.zeros((240,240,scale_size))\n",
    "        real_length = constructed_voxel.shape[2]\n",
    "        \n",
    "        start = (scale_size-real_length)//2\n",
    "        end = start+real_length\n",
    "        fixed_voxel[:,:,start:end] = constructed_voxel\n",
    "        \n",
    "        return fixed_voxel\n",
    "    else:\n",
    "        max_ratio = 0\n",
    "        max_slice_index = length//2\n",
    "        for i in range(length):\n",
    "            current_ratio = get_area_over_image_ratio(non_0_voxel[:,:,i].astype('uint8'), mask_WT[:,:,i].astype('uint8'))\n",
    "            if current_ratio>max_ratio:\n",
    "                max_ratio = current_ratio\n",
    "                max_slice_index = i\n",
    "\n",
    "        half_len = scale_size//6\n",
    "\n",
    "        start_ind = max_slice_index - half_len\n",
    "        end_ind = max_slice_index + half_len-1\n",
    "        if end_ind > (length-1):\n",
    "            diff = end_ind - (length-1)\n",
    "            start_ind = start_ind-diff\n",
    "            end_ind = end_ind -diff\n",
    "\n",
    "        constructed_voxel= np.stack([non_0_voxel[:,:,start_ind],voxel_WT[:,:,start_ind],non_0_mask[:,:,start_ind]],axis=-1)\n",
    "\n",
    "        for i in range(start_ind+1,end_ind+1):\n",
    "            new_images = np.stack([non_0_voxel[:,:,i],voxel_WT[:,:,i],non_0_mask[:,:,i]],axis=-1)\n",
    "            constructed_voxel = np.dstack((constructed_voxel,new_images))\n",
    "        return constructed_voxel"
   ]
  },
  {
   "cell_type": "code",
   "execution_count": 167,
   "id": "1df855c2-c80b-4e9a-a429-dfbc6f83f781",
   "metadata": {},
   "outputs": [],
   "source": [
    "#-----------------------WB(0-255)+WT(0-255)+Subregion(0-100) ------------------\n",
    "def get_percent_volume(raw_mask):\n",
    "    mask_per = raw_mask.copy()\n",
    "    unique, counts = np.unique(raw_mask, return_counts=True)\n",
    "    unique = unique[unique!=0].astype('int')\n",
    "    \n",
    "    mask_count = dict(zip(unique, counts))\n",
    "    total_mask = 0\n",
    "    \n",
    "    for mask in unique:\n",
    "        total_mask += mask_count[mask]\n",
    "    \n",
    "    for mask in unique:\n",
    "        mask_per[mask_per == mask] =  (mask_count[mask]/total_mask)*100\n",
    "    \n",
    "    return mask_per\n",
    "\n",
    "def construct_target_volume(scan_id,mri_type,scale_size=90):\n",
    "    raw_voxel = load_raw_voxel(scan_id,mri_type)\n",
    "    mask = load_mask(scan_id)\n",
    "    \n",
    "    non_0_voxel,non_0_mask = non_0_voxel_mask(raw_voxel,mask)\n",
    "    \n",
    "    mask_WT = non_0_mask.copy()\n",
    "    mask_WT[(mask_WT == 2) | (mask_WT == 4)] = 1\n",
    "    voxel_WT = mask_WT*non_0_voxel\n",
    "    \n",
    "    mask_per = get_percent_volume(non_0_mask)\n",
    "    \n",
    "    length = voxel_WT.shape[2]\n",
    "    #------------------------------------Warning To-do ------------------\n",
    "    if scan_id =='00651' and mri_type =='t1ce':\n",
    "        max_slice_index = 44\n",
    "        half_len = scale_size//6\n",
    "\n",
    "        start_ind = max_slice_index - half_len\n",
    "        end_ind = max_slice_index + half_len-1\n",
    "        if end_ind > (length-1):\n",
    "            diff = end_ind - (length-1)\n",
    "            start_ind = start_ind-diff\n",
    "            end_ind = end_ind -diff\n",
    "\n",
    "        constructed_voxel= np.stack([non_0_voxel[:,:,start_ind],voxel_WT[:,:,start_ind],mask_per[:,:,start_ind]],axis=-1)\n",
    "\n",
    "        for i in range(start_ind+1,end_ind+1):\n",
    "            new_images = np.stack([non_0_voxel[:,:,i],voxel_WT[:,:,i],mask_per[:,:,i]],axis=-1)\n",
    "            constructed_voxel = np.dstack((constructed_voxel,new_images))\n",
    "        \n",
    "        return constructed_voxel\n",
    "    #---------------------------------------------------------------------------\n",
    "    \n",
    "    if length<(scale_size/3):\n",
    "        constructed_voxel= np.stack([non_0_voxel[:,:,0],voxel_WT[:,:,0],mask_per[:,:,0]],axis=-1)\n",
    "        for i in range(1,length):\n",
    "            new_images = np.stack([non_0_voxel[:,:,i],voxel_WT[:,:,i],mask_per[:,:,i]],axis=-1)\n",
    "            constructed_voxel = np.dstack((constructed_voxel,new_images))\n",
    "        \n",
    "        \n",
    "        fixed_voxel = np.zeros((240,240,scale_size))\n",
    "        real_length = constructed_voxel.shape[2]\n",
    "        \n",
    "        start = (scale_size-real_length)//2\n",
    "        end = start+real_length\n",
    "        fixed_voxel[:,:,start:end] = constructed_voxel\n",
    "        \n",
    "        return fixed_voxel\n",
    "    else:\n",
    "        max_ratio = 0\n",
    "        max_slice_index = length//2\n",
    "        for i in range(length):\n",
    "            current_ratio = get_area_over_image_ratio(non_0_voxel[:,:,i].astype('uint8'), mask_WT[:,:,i].astype('uint8'))\n",
    "            if current_ratio>max_ratio:\n",
    "                max_ratio = current_ratio\n",
    "                max_slice_index = i\n",
    "\n",
    "        half_len = scale_size//6\n",
    "\n",
    "        start_ind = max_slice_index - half_len\n",
    "        end_ind = max_slice_index + half_len-1\n",
    "        if end_ind > (length-1):\n",
    "            diff = end_ind - (length-1)\n",
    "            start_ind = start_ind-diff\n",
    "            end_ind = end_ind -diff\n",
    "\n",
    "        constructed_voxel= np.stack([non_0_voxel[:,:,start_ind],voxel_WT[:,:,start_ind],mask_per[:,:,start_ind]],axis=-1)\n",
    "\n",
    "        for i in range(start_ind+1,end_ind+1):\n",
    "            new_images = np.stack([non_0_voxel[:,:,i],voxel_WT[:,:,i],mask_per[:,:,i]],axis=-1)\n",
    "            constructed_voxel = np.dstack((constructed_voxel,new_images))\n",
    "        return constructed_voxel"
   ]
  },
  {
   "cell_type": "markdown",
   "id": "152b310a-9f55-49d1-8431-fcc06cf8047e",
   "metadata": {},
   "source": [
    "### Rescale to fixed size"
   ]
  },
  {
   "cell_type": "code",
   "execution_count": 381,
   "id": "26d00023-4fd5-4cb2-86b1-f7c429fa12e9",
   "metadata": {},
   "outputs": [],
   "source": [
    "INPUT_SIZE = (90,90,90)\n",
    "MRI_TYPES = ['flair','t1','t1ce','t2']\n",
    "SAVE_PATH = '/mnt/24CC5B14CC5ADF9A/Brain_Tumor_Classification/Datasets/Data_WB_96_96_62'\n",
    "LABEL_PATH = '/mnt/24CC5B14CC5ADF9A/Brain_Tumor_Classification/Datasets/train_labels.csv'\n",
    "MASK_RE_PATH = '/mnt/24CC5B14CC5ADF9A/Brain_Tumor_Classification/Datasets/Mask_90_90_90'\n",
    "\n",
    "\"\"\"\n",
    "#---------------------- Raw Mask ------------------\n",
    "def rescale_mask(scan_id, scale_factor=90):\n",
    "    raw_voxel = load_mask(scan_id)\n",
    "\n",
    "    fixed_data = resize(raw_voxel,INPUT_SIZE,anti_aliasing=True)\n",
    "    fixed_data[fixed_data != 0] = 1\n",
    "    \n",
    "    return fixed_data\n",
    "\"\"\"\n",
    "\n",
    "#---------------------- Raw WB(0-255) ------------------\n",
    "def rescale_volume(scan_id,mri_type,scale_factor=90):\n",
    "    raw_voxel = load_raw_voxel(scan_id,mri_type)\n",
    "\n",
    "    \n",
    "    fixed_data = resize(raw_voxel,(96,96,62),preserve_range=True,anti_aliasing=True)\n",
    "    fixed_data[fixed_data < 1e-10 ] = 0\n",
    "    \n",
    "    \n",
    "    return fixed_data\n",
    "\n",
    "\n",
    "#---------------------- Raw WT(0-255) ------------------\n",
    "# def rescale_volume(scan_id,mri_type,scale_size=90):\n",
    "#     raw_voxel = load_raw_voxel(scan_id,mri_type)\n",
    "#     mask_WT = load_mask(scan_id)\n",
    "    \n",
    "    \n",
    "#     mask_WT[(mask_WT == 2) | (mask_WT == 4)] = 1\n",
    "#     voxel_WT = mask_WT*raw_voxel\n",
    "    \n",
    "#     fixed_data = resize(voxel_WT,INPUT_SIZE,preserve_range=True,anti_aliasing=True)\n",
    "#     fixed_data[fixed_data < 1e-10 ] = 0\n",
    "    \n",
    "    \n",
    "#     return fixed_data\n",
    "\n",
    "#---------------------- TC (0-255) ------------------\n",
    "# def rescale_volume(scan_id,mri_type,scale_size=90):\n",
    "#     raw_voxel = load_raw_voxel(scan_id,mri_type)\n",
    "#     mask_WT = load_mask(scan_id)\n",
    "    \n",
    "    \n",
    "#      # Tumor Core\n",
    "#     mask_TC = mask_WT.copy()\n",
    "#     mask_TC[mask_TC == 2] = 0\n",
    "#     mask_TC[mask_TC == 4] = 1\n",
    "#     voxel_TC = mask_TC*raw_voxel\n",
    "    \n",
    "#     fixed_data = resize(voxel_TC,INPUT_SIZE,preserve_range=True,anti_aliasing=True)\n",
    "#     fixed_data[fixed_data < 1e-10 ] = 0\n",
    "    \n",
    "    \n",
    "#     return fixed_data\n",
    "\n",
    "#---------------------- ET (0-255) ------------------\n",
    "# def rescale_volume(scan_id,mri_type,scale_size=90):\n",
    "#     raw_voxel = load_raw_voxel(scan_id,mri_type)\n",
    "#     mask_WT = load_mask(scan_id)\n",
    "    \n",
    "#     # Enhancing Tumor\n",
    "#     mask_ET = mask_WT.copy()\n",
    "#     mask_ET[(mask_ET == 2) | (mask_ET == 1)] = 0\n",
    "#     mask_ET[mask_ET==4] = 1\n",
    "#     voxel_ET = mask_ET*raw_voxel\n",
    "    \n",
    "#     fixed_data = resize(voxel_ET,INPUT_SIZE,preserve_range=True,anti_aliasing=True)\n",
    "#     fixed_data[fixed_data < 1e-10 ] = 0\n",
    "    \n",
    "    \n",
    "#     return fixed_data\n",
    "    \n",
    "def prepare_rescaleed_data(df,save_path,scale_size=90):\n",
    "    start = time.time()\n",
    "    for num, scan_id in enumerate(df['BraTS21ID'].values,start = 1):\n",
    "        for mri_type in MRI_TYPES:\n",
    "            rescale_data = rescale_volume(scan_id,mri_type,scale_size)\n",
    "            \n",
    "            # Save data\n",
    "            save_folder = f'BraTS2021_{scan_id}'\n",
    "            new_save_path = os.path.join(save_path, save_folder)\n",
    "            if save_folder not in os.listdir(save_path):\n",
    "                    os.mkdir(new_save_path)\n",
    "            img = nib.Nifti1Image(rescale_data, np.eye(4))  # Save axis for data (just identity)\n",
    "\n",
    "            img.header.get_xyzt_units()\n",
    "            img.to_filename(os.path.join(new_save_path,f'BraTS2021_{scan_id}_{mri_type}.nii.gz'))  # Save as NiBabel file\n",
    "            \n",
    "        print(f'{scan_id}: Done! Average Time:{(time.time()-start)/num:.2f}s',end='\\r')\n",
    "            \n",
    "    print(f'\\nData Preraration completed in {int(time.time()-start)}s')\n",
    "\n",
    "\n",
    "\n",
    "def prepare_rescaleed_mask(df,save_path,scale_size=90):\n",
    "    start = time.time()\n",
    "    for num, scan_id in enumerate(df['BraTS21ID'].values,start = 1):\n",
    "        rescale_data = rescale_mask(scan_id,scale_size)\n",
    "        # Save data\n",
    "        img = nib.Nifti1Image(rescale_data, np.eye(4))  # Save axis for data (just identity)\n",
    "\n",
    "        img.header.get_xyzt_units()\n",
    "        img.to_filename(os.path.join(save_path,f'BraTS2021_{scan_id}.nii.gz'))  # Save as NiBabel file\n",
    "            \n",
    "        print(f'{scan_id}: Done! Average Time:{(time.time()-start)/num:.2f}s',end='\\r')\n",
    "            \n",
    "    print(f'\\nData Preraration completed in {int(time.time()-start)}s')"
   ]
  },
  {
   "cell_type": "code",
   "execution_count": 376,
   "id": "123aefa0-237b-43f2-9f0f-ad89b1169e50",
   "metadata": {},
   "outputs": [
    {
     "name": "stdout",
     "output_type": "stream",
     "text": [
      "(96, 96, 62)\n"
     ]
    },
    {
     "data": {
      "text/plain": [
       "<matplotlib.image.AxesImage at 0x7f1132628e50>"
      ]
     },
     "execution_count": 376,
     "metadata": {},
     "output_type": "execute_result"
    },
    {
     "data": {
      "image/png": "[encoded data removed]",
      "text/plain": [
       "<Figure size 1600x1000 with 1 Axes>"
      ]
     },
     "metadata": {},
     "output_type": "display_data"
    }
   ],
   "source": [
    "test =  rescale_volume('00000',MRI_TYPES[3])\n",
    "print(test.shape)\n",
    "plt.imshow(test[:,:,45],cmap='gray')"
   ]
  },
  {
   "cell_type": "code",
   "execution_count": 378,
   "id": "e98fd38f-681c-4cce-84b4-c6b23a1a5aa3",
   "metadata": {},
   "outputs": [
    {
     "name": "stdout",
     "output_type": "stream",
     "text": [
      "(582, 2)\n"
     ]
    },
    {
     "data": {
      "text/html": [
       "<div>\n",
       "<style scoped>\n",
       "    .dataframe tbody tr th:only-of-type {\n",
       "        vertical-align: middle;\n",
       "    }\n",
       "\n",
       "    .dataframe tbody tr th {\n",
       "        vertical-align: top;\n",
       "    }\n",
       "\n",
       "    .dataframe thead th {\n",
       "        text-align: right;\n",
       "    }\n",
       "</style>\n",
       "<table border=\"1\" class=\"dataframe\">\n",
       "  <thead>\n",
       "    <tr style=\"text-align: right;\">\n",
       "      <th></th>\n",
       "      <th>BraTS21ID</th>\n",
       "      <th>MGMT_value</th>\n",
       "    </tr>\n",
       "  </thead>\n",
       "  <tbody>\n",
       "    <tr>\n",
       "      <th>0</th>\n",
       "      <td>00000</td>\n",
       "      <td>1</td>\n",
       "    </tr>\n",
       "    <tr>\n",
       "      <th>1</th>\n",
       "      <td>00002</td>\n",
       "      <td>1</td>\n",
       "    </tr>\n",
       "    <tr>\n",
       "      <th>2</th>\n",
       "      <td>00003</td>\n",
       "      <td>0</td>\n",
       "    </tr>\n",
       "    <tr>\n",
       "      <th>3</th>\n",
       "      <td>00005</td>\n",
       "      <td>1</td>\n",
       "    </tr>\n",
       "    <tr>\n",
       "      <th>4</th>\n",
       "      <td>00006</td>\n",
       "      <td>1</td>\n",
       "    </tr>\n",
       "  </tbody>\n",
       "</table>\n",
       "</div>"
      ],
      "text/plain": [
       "  BraTS21ID  MGMT_value\n",
       "0     00000           1\n",
       "1     00002           1\n",
       "2     00003           0\n",
       "3     00005           1\n",
       "4     00006           1"
      ]
     },
     "execution_count": 378,
     "metadata": {},
     "output_type": "execute_result"
    }
   ],
   "source": [
    "full_df = get_full_df(LABEL_PATH)\n",
    "print(full_df.shape)\n",
    "full_df.head()"
   ]
  },
  {
   "cell_type": "code",
   "execution_count": 380,
   "id": "af61f057-22d4-4a50-87b0-aa21bf8916af",
   "metadata": {},
   "outputs": [],
   "source": [
    "prepare_rescaleed_data(full_df,SAVE_PATH)"
   ]
  },
  {
   "cell_type": "code",
   "execution_count": 368,
   "id": "51fd6c96-09fb-4e1c-a19d-557715cdd40c",
   "metadata": {},
   "outputs": [
    {
     "name": "stdout",
     "output_type": "stream",
     "text": [
      "(90, 90, 90)\n"
     ]
    },
    {
     "data": {
      "text/plain": [
       "<matplotlib.image.AxesImage at 0x7f1132bd5820>"
      ]
     },
     "execution_count": 368,
     "metadata": {},
     "output_type": "execute_result"
    },
    {
     "data": {
      "image/png": "[encoded data removed]",
      "text/plain": [
       "<Figure size 1600x1000 with 1 Axes>"
      ]
     },
     "metadata": {},
     "output_type": "display_data"
    }
   ],
   "source": [
    "test =  rescale_mask('00000')\n",
    "print(test.shape)\n",
    "plt.imshow(test[:,:,45],cmap='gray')"
   ]
  },
  {
   "cell_type": "code",
   "execution_count": 373,
   "id": "ebe6b9df-1920-40fa-9f91-7d645cdebc6b",
   "metadata": {},
   "outputs": [
    {
     "name": "stdout",
     "output_type": "stream",
     "text": [
      "01010: Done! Average Time:0.32s\n",
      "Data Preraration completed in 183s\n"
     ]
    }
   ],
   "source": [
    "prepare_rescaleed_mask(full_df,MASK_RE_PATH)"
   ]
  },
  {
   "cell_type": "markdown",
   "id": "2d65be50-6388-4b34-bc2e-2936e159e08a",
   "metadata": {},
   "source": [
    "### Construct for Trainging"
   ]
  },
  {
   "cell_type": "code",
   "execution_count": 325,
   "id": "42c40fc0-e0d8-461d-8d3c-6310de1850e9",
   "metadata": {},
   "outputs": [],
   "source": [
    "WB_PATH = '/mnt/24CC5B14CC5ADF9A/Brain_Tumor_Classification/Datasets/Data_WB_90_90_90'\n",
    "WT_PATH = '/mnt/24CC5B14CC5ADF9A/Brain_Tumor_Classification/Datasets/Data_WT_90_90_90'\n",
    "TC_PATH = '/mnt/24CC5B14CC5ADF9A/Brain_Tumor_Classification/Datasets/Data_TC_90_90_90'\n",
    "ET_PATH = '/mnt/24CC5B14CC5ADF9A/Brain_Tumor_Classification/Datasets/Data_ET_90_90_90'\n",
    "\n",
    "def non_0_voxel(voxel):\n",
    "    length = voxel.shape[2]\n",
    "    start_id = 0\n",
    "    end_id = length-1\n",
    "\n",
    "    # From begining to find start index\n",
    "    for i in range(length):\n",
    "        if np.max(voxel[:,:,i]) != 0:\n",
    "            start_id = i\n",
    "            break\n",
    "\n",
    "    # From final to find end index\n",
    "    for i in range(length-1,-1,-1):\n",
    "        if np.max(voxel[:,:,i]) != 0:\n",
    "            end_id = i\n",
    "            break\n",
    "    non_0_indexs = slice(start_id,end_id+1)\n",
    "    \n",
    "    return non_0_indexs \n",
    "\n",
    "def construct_target_volume(scan_id,mri_type,scale_size=260):\n",
    "    voxel_WB = nib.load(f'{WB_PATH}/BraTS2021_{scan_id}/BraTS2021_{scan_id}_{mri_type}.nii.gz').get_fdata().astype('float')\n",
    "    voxel_WT = nib.load(f'{WT_PATH}/BraTS2021_{scan_id}/BraTS2021_{scan_id}_{mri_type}.nii.gz').get_fdata().astype('float')\n",
    "    voxel_TC = nib.load(f'{TC_PATH}/BraTS2021_{scan_id}/BraTS2021_{scan_id}_{mri_type}.nii.gz').get_fdata().astype('float')\n",
    "    voxel_ET = nib.load(f'{ET_PATH}/BraTS2021_{scan_id}/BraTS2021_{scan_id}_{mri_type}.nii.gz').get_fdata().astype('float')\n",
    "    \n",
    "    voxel_WB[voxel_WB < 1e-1 ] = 0\n",
    "    voxel_WT[voxel_WT < 1e-1] = 0\n",
    "    voxel_TC[voxel_ET < 1e-1 ] = 0\n",
    "    voxel_ET[voxel_TC < 1e-1] = 0\n",
    "    \n",
    "    non_0_slice = non_0_voxel(voxel_WB)\n",
    "    \n",
    "    non_0_WB = voxel_WB[:,:,non_0_slice]\n",
    "    non_0_WT = voxel_WT[:,:,non_0_slice]\n",
    "    non_0_TC = voxel_TC[:,:,non_0_slice]\n",
    "    non_0_ET = voxel_ET[:,:,non_0_slice]\n",
    "    \n",
    "    split_length = scale_size//4\n",
    "    diff = split_length-non_0_WB.shape[2]\n",
    "    if diff<0:\n",
    "        diff = abs(diff)\n",
    "        div, mod = divmod(diff,2)\n",
    "        start = div+mod-1\n",
    "        end = non_0_WB.shape[2]-div-1\n",
    "\n",
    "        constructed_voxel = np.dstack((non_0_WB[:,:,slice(start,end)],non_0_WT[:,:,slice(start,end)],non_0_TC[:,:,slice(start,end)],non_0_ET[:,:,slice(start,end)]))\n",
    "    else:\n",
    "        div, mod = divmod(diff,2)\n",
    "        before = div+mod\n",
    "        after = div\n",
    "\n",
    "        fixed_WB = np.pad(non_0_WB,((0,0),(0,0),(before,after)))\n",
    "        fixed_WT = np.pad(non_0_WT,((0,0),(0,0),(before,after)))\n",
    "        fixed_TC = np.pad(non_0_WB,((0,0),(0,0),(before,after)))\n",
    "        fixed_ET = np.pad(non_0_WT,((0,0),(0,0),(before,after)))\n",
    "\n",
    "        constructed_voxel = np.dstack((fixed_WB,fixed_WT,fixed_TC,fixed_ET))\n",
    "    return constructed_voxel"
   ]
  },
  {
   "cell_type": "code",
   "execution_count": 335,
   "id": "cc26bf45-953e-46d5-89b1-2ebe9dc44f34",
   "metadata": {},
   "outputs": [
    {
     "name": "stdout",
     "output_type": "stream",
     "text": [
      "(90, 90, 260)\n"
     ]
    },
    {
     "data": {
      "text/plain": [
       "<matplotlib.image.AxesImage at 0x7f1133a2b340>"
      ]
     },
     "execution_count": 335,
     "metadata": {},
     "output_type": "execute_result"
    },
    {
     "data": {
      "image/png": "[encoded data removed]",
      "text/plain": [
       "<Figure size 1600x1000 with 1 Axes>"
      ]
     },
     "metadata": {},
     "output_type": "display_data"
    }
   ],
   "source": [
    "load_test = construct_target_volume('00519',MRI_TYPES[1])\n",
    "print(load_test.shape)\n",
    "plt.imshow(load_test[:,:,220],cmap='gray')"
   ]
  },
  {
   "cell_type": "code",
   "execution_count": 287,
   "id": "7e43d4c7-0348-4fa1-8a0c-e02560693a27",
   "metadata": {},
   "outputs": [],
   "source": [
    "def non_0_voxel(voxel):\n",
    "    length = voxel.shape[2]\n",
    "    start_id = 0\n",
    "    end_id = length-1\n",
    "\n",
    "    # From begining to find start index\n",
    "    for i in range(length):\n",
    "        if np.max(voxel[:,:,i]) != 0:\n",
    "            start_id = i\n",
    "            break\n",
    "\n",
    "    # From final to find end index\n",
    "    for i in range(length-1,-1,-1):\n",
    "        if np.max(voxel[:,:,i]) != 0:\n",
    "            end_id = i\n",
    "            break\n",
    "    non_0_indexs = slice(start_id,end_id+1)\n",
    "    \n",
    "    return voxel[:,:,non_0_indexs]\n",
    "\n",
    "\n",
    "def max_volume_length(df):\n",
    "    start = time.time()\n",
    "    length_list=[]\n",
    "    for scan_id in df['BraTS21ID'].values:\n",
    "        voxel = nib.load(f'/mnt/24CC5B14CC5ADF9A/Brain_Tumor_Classification/Datasets/Data_WB_90_90_90/BraTS2021_{scan_id}/BraTS2021_{scan_id}_t1ce.nii.gz').get_fdata().astype('float')\n",
    "        data = non_0_voxel(voxel)\n",
    "        length_list.append(data.shape[2])\n",
    "                \n",
    "    print(f'Algorithm completed in {int(time.time()-start)}s')\n",
    "    return length_list"
   ]
  },
  {
   "cell_type": "code",
   "execution_count": 288,
   "id": "707f12d9-e568-426e-ba77-7811ec78f990",
   "metadata": {},
   "outputs": [
    {
     "name": "stdout",
     "output_type": "stream",
     "text": [
      "Algorithm completed in 14s\n"
     ]
    }
   ],
   "source": [
    "length_list = max_volume_length(full_df)"
   ]
  },
  {
   "cell_type": "code",
   "execution_count": 289,
   "id": "d758b00d-4141-4534-8a34-f2902270a576",
   "metadata": {},
   "outputs": [
    {
     "data": {
      "text/plain": [
       "57.0"
      ]
     },
     "execution_count": 289,
     "metadata": {},
     "output_type": "execute_result"
    }
   ],
   "source": [
    "np.median(length_list)"
   ]
  },
  {
   "cell_type": "code",
   "execution_count": 284,
   "id": "55a484de-a8bc-42c0-bd5f-aea7353ff07a",
   "metadata": {},
   "outputs": [],
   "source": [
    "a,b = np.unique(length_list,return_counts = True)"
   ]
  },
  {
   "cell_type": "code",
   "execution_count": 290,
   "id": "7719815c-49eb-4762-87e2-37bb681273bf",
   "metadata": {},
   "outputs": [
    {
     "data": {
      "text/plain": [
       "<AxesSubplot:xlabel='Length', ylabel='Count'>"
      ]
     },
     "execution_count": 290,
     "metadata": {},
     "output_type": "execute_result"
    },
    {
     "data": {
      "image/png": "[encoded data removed]",
      "text/plain": [
       "<Figure size 1600x1000 with 1 Axes>"
      ]
     },
     "metadata": {},
     "output_type": "display_data"
    }
   ],
   "source": [
    "values, counts = np.unique(length_list, return_counts=True)\n",
    "\n",
    "\n",
    "sns.set(rc={\"figure.dpi\":100, 'figure.figsize':(16,10)})\n",
    "sns.set_style(\"ticks\")\n",
    "\n",
    "df_l = {'Length':values,'Count': counts}\n",
    "df_l = pd.DataFrame(df_l)\n",
    "\n",
    "sns.barplot(data=df_l[df_l.Count>=5], x=\"Length\",y='Count', color='#e77b03')"
   ]
  },
  {
   "cell_type": "code",
   "execution_count": null,
   "id": "4aaff3e1-0295-4c09-97e0-5550784e3496",
   "metadata": {},
   "outputs": [],
   "source": []
  },
  {
   "cell_type": "code",
   "execution_count": null,
   "id": "ea3258f3-c528-4480-8866-ccc87a47a98d",
   "metadata": {},
   "outputs": [],
   "source": []
  }
 ],
 "metadata": {
  "kernelspec": {
   "display_name": "Python 3 (ipykernel)",
   "language": "python",
   "name": "python3"
  },
  "language_info": {
   "codemirror_mode": {
    "name": "ipython",
    "version": 3
   },
   "file_extension": ".py",
   "mimetype": "text/x-python",
   "name": "python",
   "nbconvert_exporter": "python",
   "pygments_lexer": "ipython3",
   "version": "3.8.10"
  }
 },
 "nbformat": 4,
 "nbformat_minor": 5
}
